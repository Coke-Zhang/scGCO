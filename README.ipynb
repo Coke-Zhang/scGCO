{
 "cells": [
  {
   "cell_type": "markdown",
   "metadata": {},
   "source": [
    "# scGCO\n",
    "\n",
    "**scGCO** is a method to identify genes which significantly depend on spatial coordinates.The intended applications are spatially resolved RNA-sequencing from e.g. Spatial Transcriptomics, or *in situ* gene expression measurements from e.g. SeqFISH or MERFISH.\n",
    "\n",
    "The reposity contains both the implementations of our methods,as well as case studies in applying it.\n",
    "\n",
    "The primary implementation is as a Python 3 package,and can be installed from the command line by\n",
    "\n",
    "``` pip install scgco\n",
    "```\n",
    "\n",
    "### License\n",
    "MIT Licence, see LICENSE file.\n",
    "\n",
    "###  Authors\n",
    "See AUTHORS file\n",
    "\n",
    "### Contact\n",
    "For bugs,feedback or help you can contact Peng Wang <wangpeng@picb.ac.cn>\n",
    "\n",
    "To see usage example of scGCO either keep reading, or look in the **Analysis** directory.The following examples are \n",
    "provided:\n",
    "\n",
    "- **BreastCancer**  - Transcriptome wide study on breast cancer tissue from Spatial Transcriptomics\n",
    "- **MouseOB** - Spatial Transcriptomics assay of a slice of Mouse Olfactory Bulb.\n",
    "- **MERFISH** - Expression from single cells in a region of an osteoblast culture using the MERFISH technology with 140 probes.\n",
    "- **SeqFISH** -  Expression counts of single cells from mouse hippocampus using the SeqFISH technology with 249 probes.\n",
    "\n",
    "\n",
    "## scGCO significance test example use\n",
    "\n",
    "As an example, let us As an example, let us look at spatially dependent gene expression in Mouse Olfactory Bulb using a data set published in [Stahl et al 2016](http://science.sciencemag.org/content/353/6294/78). With the authors method, hundrads of locations on a tissue slice can be sampled at once, and gene expression is measured by sequencing in an unbiased whole-transcriptome manner. \n",
    "\n",
    "### Input Format\n",
    "The referred matrix format is the ST data format, a matrix of counts where spot coordinates are row names\n",
    "and the genes are column names.This matrix format (.TSV) is split by tab."
   ]
  },
  {
   "cell_type": "code",
   "execution_count": null,
   "metadata": {},
   "outputs": [],
   "source": [
    "import scGCO\n",
    "\n",
    "# read spatial expression data tab split counts matrix\n",
    "ff = 'Analysis/data/MOB-breast-cancer/Rep11_MOB_count_matrix-1.tsv'\n",
    "locs, data = scGCO.read_spatial_expression(ff)\n",
    "# remove genes expressed in less than 10 cells\n",
    "data = data.loc[:,(data != 0).astype(int).sum(axis=0) >= 10]\n",
    "# normalize expression and use 1000 genes to test the algorithm\n",
    "data_norm = scGCO.normalize_count_cellranger(data)\n",
    "data_norm = data_norm.iloc[:,0:1000]\n",
    "\n",
    "# estimate number of segments\n",
    "factor_df, size_factor = scGCO.estimate_smooth_factor(locs, data_norm)\n",
    "\n",
    "# run the main algorithm to identify spatially expressed genes\n",
    "# this should take less than a minute \n",
    "result_df = scGCO.identify_spatial_genes(locs, data_norm, size_factor)\n"
   ]
  }
 ],
 "metadata": {
  "kernelspec": {
   "display_name": "Python 3",
   "language": "python",
   "name": "python3"
  },
  "language_info": {
   "codemirror_mode": {
    "name": "ipython",
    "version": 3
   },
   "file_extension": ".py",
   "mimetype": "text/x-python",
   "name": "python",
   "nbconvert_exporter": "python",
   "pygments_lexer": "ipython3",
   "version": "3.6.6"
  }
 },
 "nbformat": 4,
 "nbformat_minor": 2
}
